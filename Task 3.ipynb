{
 "cells": [
  {
   "cell_type": "code",
   "execution_count": 3,
   "id": "d0a5e84e",
   "metadata": {},
   "outputs": [
    {
     "name": "stdout",
     "output_type": "stream",
     "text": [
      "    symboling  normalized_losses         make fuel_type aspiration  \\\n",
      "0           3                168  alfa-romero       gas        std   \n",
      "1           3                168  alfa-romero       gas        std   \n",
      "2           1                168  alfa-romero       gas        std   \n",
      "3           2                164         audi       gas        std   \n",
      "4           2                164         audi       gas        std   \n",
      "5           2                161         audi       gas        std   \n",
      "6           1                158         audi       gas        std   \n",
      "7           1                168         audi       gas        std   \n",
      "8           1                158         audi       gas      turbo   \n",
      "9           2                192          bmw       gas        std   \n",
      "10          0                192          bmw       gas        std   \n",
      "11          0                188          bmw       gas        std   \n",
      "12          0                188          bmw       gas        std   \n",
      "13          1                149          bmw       gas        std   \n",
      "14          0                149          bmw       gas        std   \n",
      "15          0                149          bmw       gas        std   \n",
      "16          0                149          bmw       gas        std   \n",
      "17          2                121    chevrolet       gas        std   \n",
      "18          1                 98    chevrolet       gas        std   \n",
      "19          0                 81    chevrolet       gas        std   \n",
      "20          1                118        dodge       gas        std   \n",
      "21          1                118        dodge       gas        std   \n",
      "22          1                118        dodge       gas      turbo   \n",
      "23          1                148        dodge       gas        std   \n",
      "24          1                148        dodge       gas        std   \n",
      "25          1                148        dodge       gas        std   \n",
      "26          1                148        dodge       gas      turbo   \n",
      "27         -1                110        dodge       gas        std   \n",
      "28          3                145        dodge       gas      turbo   \n",
      "29          2                137        honda       gas        std   \n",
      "\n",
      "   number_of_doors   body_style drive_wheels engine_location  wheel_base  ...  \\\n",
      "0              two  convertible          rwd           front        88.6  ...   \n",
      "1              two  convertible          rwd           front        88.6  ...   \n",
      "2              two    hatchback          rwd           front        94.5  ...   \n",
      "3             four        sedan          fwd           front        99.8  ...   \n",
      "4             four        sedan          4wd           front        99.4  ...   \n",
      "5              two        sedan          fwd           front        99.8  ...   \n",
      "6             four        sedan          fwd           front       105.8  ...   \n",
      "7             four        wagon          fwd           front       105.8  ...   \n",
      "8             four        sedan          fwd           front       105.8  ...   \n",
      "9              two        sedan          rwd           front       101.2  ...   \n",
      "10            four        sedan          rwd           front       101.2  ...   \n",
      "11             two        sedan          rwd           front       101.2  ...   \n",
      "12            four        sedan          rwd           front       101.2  ...   \n",
      "13            four        sedan          rwd           front       103.5  ...   \n",
      "14            four        sedan          rwd           front       103.5  ...   \n",
      "15             two        sedan          rwd           front       103.5  ...   \n",
      "16            four        sedan          rwd           front       110.0  ...   \n",
      "17             two    hatchback          fwd           front        88.4  ...   \n",
      "18             two    hatchback          fwd           front        94.5  ...   \n",
      "19            four        sedan          fwd           front        94.5  ...   \n",
      "20             two    hatchback          fwd           front        93.7  ...   \n",
      "21             two    hatchback          fwd           front        93.7  ...   \n",
      "22             two    hatchback          fwd           front        93.7  ...   \n",
      "23            four    hatchback          fwd           front        93.7  ...   \n",
      "24            four        sedan          fwd           front        93.7  ...   \n",
      "25            four        sedan          fwd           front        93.7  ...   \n",
      "26             two        sedan          fwd           front        93.7  ...   \n",
      "27            four        wagon          fwd           front       103.3  ...   \n",
      "28             two    hatchback          fwd           front        95.9  ...   \n",
      "29             two    hatchback          fwd           front        86.6  ...   \n",
      "\n",
      "    engine_size  fuel_system  bore  stroke compression_ratio horsepower  \\\n",
      "0           130         mpfi  3.47    2.68              9.00        111   \n",
      "1           130         mpfi  3.47    2.68              9.00        111   \n",
      "2           152         mpfi  2.68    3.47              9.00        154   \n",
      "3           109         mpfi  3.19    3.40             10.00        102   \n",
      "4           136         mpfi  3.19    3.40              8.00        115   \n",
      "5           136         mpfi  3.19    3.40              8.50        110   \n",
      "6           136         mpfi  3.19    3.40              8.50        110   \n",
      "7           136         mpfi  3.19    3.40              8.50        110   \n",
      "8           131         mpfi  3.13    3.40              8.30        140   \n",
      "9           108         mpfi  3.50    2.80              8.80        101   \n",
      "10          108         mpfi  3.50    2.80              8.80        101   \n",
      "11          164         mpfi  3.31    3.19              9.00        121   \n",
      "12          164         mpfi  3.31    3.19              9.00        121   \n",
      "13          164         mpfi  3.31    3.19              9.00        121   \n",
      "14          209         mpfi  3.62    3.39              8.00        182   \n",
      "15          209         mpfi  3.62    3.39              8.00        182   \n",
      "16          209         mpfi  3.62    3.39              8.00        182   \n",
      "17           61         2bbl  2.91    3.03              9.50         48   \n",
      "18           90         2bbl  3.03    3.11              9.60         70   \n",
      "19           90         2bbl  3.03    3.11              9.60         70   \n",
      "20           90         2bbl  2.97    3.23              9.41         68   \n",
      "21           90         2bbl  2.97    3.23              9.40         68   \n",
      "22           98         mpfi  3.03    3.39              7.60        102   \n",
      "23           90         2bbl  2.97    3.23              9.40         68   \n",
      "24           90         2bbl  2.97    3.23              9.40         68   \n",
      "25           90         2bbl  2.97    3.23              9.40         68   \n",
      "26           98         mpfi  3.03    3.39              7.60        102   \n",
      "27          122         2bbl  3.34    3.46              8.50         88   \n",
      "28          156          mfi  3.60    3.90              7.00        145   \n",
      "29           92         1bbl  2.91    3.41              9.60         58   \n",
      "\n",
      "    peak_rpm city_mpg  highway_mpg  price  \n",
      "0       5000       21           27  13495  \n",
      "1       5000       21           27  16500  \n",
      "2       5000       19           26  16500  \n",
      "3       5500       24           30  13950  \n",
      "4       5500       18           22  17450  \n",
      "5       5500       19           25  15250  \n",
      "6       5500       19           25  17710  \n",
      "7       5500       19           25  18920  \n",
      "8       5500       17           20  23875  \n",
      "9       5800       23           29  16430  \n",
      "10      5800       23           29  16925  \n",
      "11      4250       21           28  20970  \n",
      "12      4250       21           28  21105  \n",
      "13      4250       20           25  24565  \n",
      "14      5400       16           22  30760  \n",
      "15      5400       16           22  41315  \n",
      "16      5400       15           20  36880  \n",
      "17      5100       47           53   5151  \n",
      "18      5400       38           43   6295  \n",
      "19      5400       38           43   6575  \n",
      "20      5500       37           41   5572  \n",
      "21      5500       31           38   6377  \n",
      "22      5500       24           30   7957  \n",
      "23      5500       31           38   6229  \n",
      "24      5500       31           38   6692  \n",
      "25      5500       31           38   7609  \n",
      "26      5500       24           30   8558  \n",
      "27      5000       24           30   8921  \n",
      "28      5000       19           24  12964  \n",
      "29      4800       49           54   6479  \n",
      "\n",
      "[30 rows x 26 columns]\n"
     ]
    }
   ],
   "source": [
    "import pandas as pd\n",
    "df = pd.read_csv(\"D:\\SIRPI\\Automobile.csv\")\n",
    "print(df.head(30))"
   ]
  },
  {
   "cell_type": "code",
   "execution_count": 4,
   "id": "0bf4c342",
   "metadata": {},
   "outputs": [
    {
     "name": "stdout",
     "output_type": "stream",
     "text": [
      "Index(['symboling', 'normalized_losses', 'make', 'fuel_type', 'aspiration',\n",
      "       'number_of_doors', 'body_style', 'drive_wheels', 'engine_location',\n",
      "       'wheel_base', 'length', 'width', 'height', 'curb_weight', 'engine_type',\n",
      "       'number_of_cylinders', 'engine_size', 'fuel_system', 'bore', 'stroke',\n",
      "       'compression_ratio', 'horsepower', 'peak_rpm', 'city_mpg',\n",
      "       'highway_mpg', 'price'],\n",
      "      dtype='object')\n"
     ]
    }
   ],
   "source": [
    "print(df.columns)"
   ]
  },
  {
   "cell_type": "code",
   "execution_count": 5,
   "id": "888a17f5",
   "metadata": {},
   "outputs": [
    {
     "name": "stdout",
     "output_type": "stream",
     "text": [
      "(201, 26)\n"
     ]
    }
   ],
   "source": [
    "print(df.shape)"
   ]
  },
  {
   "cell_type": "code",
   "execution_count": 6,
   "id": "748fc6af",
   "metadata": {},
   "outputs": [
    {
     "name": "stdout",
     "output_type": "stream",
     "text": [
      "symboling                int64\n",
      "normalized_losses        int64\n",
      "make                    object\n",
      "fuel_type               object\n",
      "aspiration              object\n",
      "number_of_doors         object\n",
      "body_style              object\n",
      "drive_wheels            object\n",
      "engine_location         object\n",
      "wheel_base             float64\n",
      "length                 float64\n",
      "width                  float64\n",
      "height                 float64\n",
      "curb_weight              int64\n",
      "engine_type             object\n",
      "number_of_cylinders     object\n",
      "engine_size              int64\n",
      "fuel_system             object\n",
      "bore                   float64\n",
      "stroke                 float64\n",
      "compression_ratio      float64\n",
      "horsepower               int64\n",
      "peak_rpm                 int64\n",
      "city_mpg                 int64\n",
      "highway_mpg              int64\n",
      "price                    int64\n",
      "dtype: object\n"
     ]
    }
   ],
   "source": [
    "print(df.dtypes)"
   ]
  },
  {
   "cell_type": "code",
   "execution_count": 26,
   "id": "230b47b1",
   "metadata": {},
   "outputs": [
    {
     "name": "stdout",
     "output_type": "stream",
     "text": [
      "Min Price: 5118, Fuel Type: gas\n",
      "Max Price: 45400, Fuel Type: gas\n"
     ]
    }
   ],
   "source": [
    "min_price = df[\"price\"].min()\n",
    "max_price = df[\"price\"].max()\n",
    "\n",
    "min_fuel_type = df[df[\"price\"] == min_price][\"fuel_type\"].values[0]\n",
    "max_fuel_type = df[df[\"price\"] == max_price][\"fuel_type\"].values[0]\n",
    "\n",
    "print(f\"Min Price: {min_price}, Fuel Type: {min_fuel_type}\")\n",
    "print(f\"Max Price: {max_price}, Fuel Type: {max_fuel_type}\")"
   ]
  },
  {
   "cell_type": "code",
   "execution_count": 28,
   "id": "1ab7cd4e",
   "metadata": {},
   "outputs": [
    {
     "name": "stdout",
     "output_type": "stream",
     "text": [
      "['dohc' 'ohcv' 'ohc' 'l' 'rotor' 'ohcf']\n"
     ]
    }
   ],
   "source": [
    "print(df[\"engine_type\"].unique())"
   ]
  },
  {
   "cell_type": "code",
   "execution_count": 29,
   "id": "866ff15b",
   "metadata": {},
   "outputs": [
    {
     "name": "stdout",
     "output_type": "stream",
     "text": [
      "Horsepower Range: 48 - 262\n"
     ]
    }
   ],
   "source": [
    "print(f\"Horsepower Range: {df['horsepower'].min()} - {df['horsepower'].max()}\")"
   ]
  },
  {
   "cell_type": "code",
   "execution_count": 34,
   "id": "8d5b5549",
   "metadata": {},
   "outputs": [
    {
     "name": "stdout",
     "output_type": "stream",
     "text": [
      "City MPG: 25.17910447761194, Highway MPG: 30.686567164179106. Better: Highway\n"
     ]
    }
   ],
   "source": [
    "city_avg = df[\"city_mpg\"].mean()\n",
    "highway_avg = df[\"highway_mpg\"].mean()\n",
    "better_mpg = \"Highway\" if highway_avg > city_avg else \"City\"\n",
    "print(f\"City MPG: {city_avg}, Highway MPG: {highway_avg}. Better: {better_mpg}\")"
   ]
  },
  {
   "cell_type": "code",
   "execution_count": 37,
   "id": "2cbe649d",
   "metadata": {},
   "outputs": [
    {
     "name": "stdout",
     "output_type": "stream",
     "text": [
      "make\n",
      "toyota           32\n",
      "nissan           18\n",
      "mazda            17\n",
      "mitsubishi       13\n",
      "honda            13\n",
      "volkswagen       12\n",
      "subaru           12\n",
      "peugot           11\n",
      "volvo            11\n",
      "dodge             9\n",
      "mercedes-benz     8\n",
      "bmw               8\n",
      "plymouth          7\n",
      "audi              6\n",
      "saab              6\n",
      "porsche           4\n",
      "jaguar            3\n",
      "chevrolet         3\n",
      "alfa-romero       3\n",
      "isuzu             2\n",
      "renault           2\n",
      "mercury           1\n",
      "Name: count, dtype: int64\n",
      "Most common make: toyota (32 cars)\n"
     ]
    }
   ],
   "source": [
    "make_counts = df[\"make\"].value_counts()\n",
    "print(make_counts)\n",
    "print(f\"Most common make: {make_counts.idxmax()} ({make_counts.max()} cars)\")"
   ]
  },
  {
   "cell_type": "code",
   "execution_count": 39,
   "id": "fec560de",
   "metadata": {},
   "outputs": [
    {
     "name": "stdout",
     "output_type": "stream",
     "text": [
      "      Name  Age  Score\n",
      "2  Charlie   22     78\n"
     ]
    }
   ],
   "source": [
    "df = pd.DataFrame({\n",
    "    \"Name\": [\"Alice\", \"Bob\", \"Charlie\", \"David\"],\n",
    "    \"Age\": [24, 27, 22, 32],\n",
    "    \"Score\": [85, 90, 78, 88]\n",
    "})\n",
    "print(df.loc[df[\"Name\"] == \"Charlie\"])\n",
    "\n"
   ]
  },
  {
   "cell_type": "code",
   "execution_count": 40,
   "id": "c6d6b7a7",
   "metadata": {},
   "outputs": [
    {
     "name": "stdout",
     "output_type": "stream",
     "text": [
      "   Age  Score\n",
      "0   24     85\n",
      "1   27     90\n"
     ]
    }
   ],
   "source": [
    "print(df.loc[df[\"Name\"].isin([\"Alice\", \"Bob\"]), [\"Age\", \"Score\"]])"
   ]
  },
  {
   "cell_type": "code",
   "execution_count": 41,
   "id": "7567af61",
   "metadata": {},
   "outputs": [
    {
     "name": "stdout",
     "output_type": "stream",
     "text": [
      "Name     Bob\n",
      "Age       27\n",
      "Score     90\n",
      "Name: 1, dtype: object\n"
     ]
    }
   ],
   "source": [
    "print(df.iloc[1])"
   ]
  },
  {
   "cell_type": "code",
   "execution_count": 42,
   "id": "d9d18e40",
   "metadata": {},
   "outputs": [
    {
     "name": "stdout",
     "output_type": "stream",
     "text": [
      "      Name  Age  Score\n",
      "2  Charlie   22     78\n",
      "3    David   32     88\n"
     ]
    }
   ],
   "source": [
    "print(df.iloc[-2:])"
   ]
  },
  {
   "cell_type": "code",
   "execution_count": 43,
   "id": "9c316263",
   "metadata": {},
   "outputs": [
    {
     "name": "stdout",
     "output_type": "stream",
     "text": [
      "  Employee  Salary Department\n",
      "0     John   50000         IT\n",
      "2      Bob   55000         IT\n",
      "  Employee  Salary Department\n",
      "1    Alice   60000         HR\n",
      "3    David   65000    Finance\n"
     ]
    }
   ],
   "source": [
    "df = pd.DataFrame({\n",
    "    \"Employee\": [\"John\", \"Alice\", \"Bob\", \"David\"],\n",
    "    \"Salary\": [50000, 60000, 55000, 65000],\n",
    "    \"Department\": [\"IT\", \"HR\", \"IT\", \"Finance\"]\n",
    "})\n",
    "\n",
    "print(df[df[\"Department\"] == \"IT\"])\n",
    "print(df[df[\"Salary\"] > 55000])\n"
   ]
  },
  {
   "cell_type": "code",
   "execution_count": 44,
   "id": "c7468814",
   "metadata": {},
   "outputs": [
    {
     "name": "stdout",
     "output_type": "stream",
     "text": [
      "  Student  Marks Result\n",
      "0       A     45   Fail\n",
      "1       B     78   Pass\n",
      "2       C     62   Pass\n",
      "3       D     90   Pass\n"
     ]
    }
   ],
   "source": [
    "df = pd.DataFrame({\n",
    "    \"Student\": [\"A\", \"B\", \"C\", \"D\"],\n",
    "    \"Marks\": [45, 78, 62, 90]\n",
    "})\n",
    "\n",
    "def pass_fail(mark):\n",
    "    return \"Pass\" if mark >= 50 else \"Fail\"\n",
    "\n",
    "df[\"Result\"] = df[\"Marks\"].apply(pass_fail)\n",
    "print(df)\n"
   ]
  },
  {
   "cell_type": "code",
   "execution_count": 45,
   "id": "17b3f21c",
   "metadata": {},
   "outputs": [
    {
     "name": "stdout",
     "output_type": "stream",
     "text": [
      "[[ 1  2  3  4]\n",
      " [ 5  6  7  8]\n",
      " [ 9 10 11 12]]\n"
     ]
    }
   ],
   "source": [
    "import numpy as np\n",
    "\n",
    "arr = np.arange(1, 13).reshape(3, 4)\n",
    "print(arr)\n"
   ]
  },
  {
   "cell_type": "code",
   "execution_count": 46,
   "id": "00e3b2c3",
   "metadata": {},
   "outputs": [
    {
     "name": "stdout",
     "output_type": "stream",
     "text": [
      "[10 40 90]\n",
      "[6 7 8]\n"
     ]
    }
   ],
   "source": [
    "a = np.array([1, 2, 3])\n",
    "b = np.array([10, 20, 30])\n",
    "\n",
    "print(a * b)\n",
    "print(a + 5)\n"
   ]
  },
  {
   "cell_type": "code",
   "execution_count": 49,
   "id": "ba228afe",
   "metadata": {},
   "outputs": [
    {
     "name": "stdout",
     "output_type": "stream",
     "text": [
      "Max value: 9\n",
      "Min in each row: [2 4]\n"
     ]
    }
   ],
   "source": [
    "arr = np.array([[3, 7, 2], [4, 9, 6]])\n",
    "\n",
    "print(\"Max value:\", arr.max())\n",
    "print(\"Min in each row:\", arr.min(axis=1))"
   ]
  },
  {
   "cell_type": "code",
   "execution_count": 50,
   "id": "5582454d",
   "metadata": {},
   "outputs": [
    {
     "name": "stdout",
     "output_type": "stream",
     "text": [
      "Department\n",
      "Finance    60000.0\n",
      "HR         51000.0\n",
      "IT         75000.0\n",
      "Name: Salary, dtype: float64\n"
     ]
    }
   ],
   "source": [
    "df = pd.DataFrame({\n",
    "    \"Department\": [\"IT\", \"HR\", \"IT\", \"Finance\", \"HR\"],\n",
    "    \"Salary\": [70000, 50000, 80000, 60000, 52000]\n",
    "})\n",
    "\n",
    "print(df.groupby(\"Department\")[\"Salary\"].mean())\n"
   ]
  },
  {
   "cell_type": "code",
   "execution_count": 51,
   "id": "b40c31db",
   "metadata": {},
   "outputs": [
    {
     "name": "stdout",
     "output_type": "stream",
     "text": [
      "          City  Population\n",
      "0     New York     8419600\n",
      "1  Los Angeles     3980400\n",
      "2      Chicago     2716000\n",
      "3      Houston     2328000\n"
     ]
    }
   ],
   "source": [
    "df = pd.DataFrame({\n",
    "    \"City\": [\"New York\", \"Los Angeles\", \"Chicago\", \"Houston\"],\n",
    "    \"Population\": [8419600, 3980400, 2716000, 2328000]\n",
    "})\n",
    "\n",
    "print(df.sort_values(by=\"Population\", ascending=False))\n"
   ]
  },
  {
   "cell_type": "code",
   "execution_count": 52,
   "id": "32fb21a5",
   "metadata": {},
   "outputs": [
    {
     "name": "stdout",
     "output_type": "stream",
     "text": [
      "180\n"
     ]
    }
   ],
   "source": [
    "df = pd.DataFrame({\n",
    "    \"Region\": [\"North\", \"North\", \"South\", \"South\", \"East\", \"East\"],\n",
    "    \"City\": [\"A\", \"B\", \"A\", \"B\", \"A\", \"B\"],\n",
    "    \"Sales\": [200, 150, 180, 220, 300, 250]\n",
    "}).set_index([\"Region\", \"City\"])\n",
    "\n",
    "print(df.loc[(\"South\", \"A\"), \"Sales\"])"
   ]
  },
  {
   "cell_type": "code",
   "execution_count": 53,
   "id": "b1693fd1",
   "metadata": {},
   "outputs": [
    {
     "name": "stdout",
     "output_type": "stream",
     "text": [
      "    A   B   C   D\n",
      "0  14  65  55  11\n",
      "1  41  22  53  14\n",
      "2  40  53  32  55\n",
      "3  85  22  62  96\n",
      "4  73  86  91  43\n"
     ]
    }
   ],
   "source": [
    "arr = np.random.randint(10, 99, (5, 4))\n",
    "df = pd.DataFrame(arr, columns=[\"A\", \"B\", \"C\", \"D\"])\n",
    "print(df)"
   ]
  },
  {
   "cell_type": "code",
   "execution_count": 60,
   "id": "f5dcca22",
   "metadata": {},
   "outputs": [
    {
     "name": "stdout",
     "output_type": "stream",
     "text": [
      "Index(['A', 'B', 'C', 'D'], dtype='object')\n"
     ]
    }
   ],
   "source": [
    "\n",
    "print(df.columns)"
   ]
  },
  {
   "cell_type": "code",
   "execution_count": 63,
   "id": "5d123775",
   "metadata": {},
   "outputs": [],
   "source": [
    "df.loc[df[\"D\"] < 60, \"Marks\"] = 0"
   ]
  },
  {
   "cell_type": "code",
   "execution_count": 74,
   "id": "24456f9a",
   "metadata": {},
   "outputs": [
    {
     "name": "stdout",
     "output_type": "stream",
     "text": [
      "   Student  Attendance  Marks  Grade    d\n",
      "0       14          65     55     11  0.0\n",
      "1       41          22      0     14  0.0\n",
      "2       40          53      0     55  0.0\n",
      "3       85          22      0     96  NaN\n",
      "4       73          86     91     43  0.0\n"
     ]
    }
   ],
   "source": [
    "\n",
    "df.columns = [\"Student\", \"Attendance\", \"Marks\", \"Grade\", \"d\"]\n",
    "\n",
    "df[\"Attendance\"] = pd.to_numeric(df[\"Attendance\"], errors=\"coerce\")\n",
    "\n",
    "df.loc[df[\"Attendance\"] < 60, \"Marks\"] = 0\n",
    "\n",
    "print(df.head())"
   ]
  },
  {
   "cell_type": "code",
   "execution_count": 77,
   "id": "56371698",
   "metadata": {},
   "outputs": [
    {
     "data": {
      "text/html": [
       "<div>\n",
       "<style scoped>\n",
       "    .dataframe tbody tr th:only-of-type {\n",
       "        vertical-align: middle;\n",
       "    }\n",
       "\n",
       "    .dataframe tbody tr th {\n",
       "        vertical-align: top;\n",
       "    }\n",
       "\n",
       "    .dataframe thead th {\n",
       "        text-align: right;\n",
       "    }\n",
       "</style>\n",
       "<table border=\"1\" class=\"dataframe\">\n",
       "  <thead>\n",
       "    <tr style=\"text-align: right;\">\n",
       "      <th></th>\n",
       "      <th>EmployeeID</th>\n",
       "      <th>Department</th>\n",
       "      <th>Salary</th>\n",
       "      <th>Experience</th>\n",
       "    </tr>\n",
       "  </thead>\n",
       "  <tbody>\n",
       "    <tr>\n",
       "      <th>0</th>\n",
       "      <td>1</td>\n",
       "      <td>IT</td>\n",
       "      <td>70000</td>\n",
       "      <td>6</td>\n",
       "    </tr>\n",
       "    <tr>\n",
       "      <th>1</th>\n",
       "      <td>2</td>\n",
       "      <td>Finance</td>\n",
       "      <td>80000</td>\n",
       "      <td>7</td>\n",
       "    </tr>\n",
       "    <tr>\n",
       "      <th>3</th>\n",
       "      <td>4</td>\n",
       "      <td>IT</td>\n",
       "      <td>65000</td>\n",
       "      <td>5</td>\n",
       "    </tr>\n",
       "    <tr>\n",
       "      <th>4</th>\n",
       "      <td>5</td>\n",
       "      <td>Finance</td>\n",
       "      <td>75000</td>\n",
       "      <td>8</td>\n",
       "    </tr>\n",
       "  </tbody>\n",
       "</table>\n",
       "</div>"
      ],
      "text/plain": [
       "   EmployeeID Department  Salary  Experience\n",
       "0           1         IT   70000           6\n",
       "1           2    Finance   80000           7\n",
       "3           4         IT   65000           5\n",
       "4           5    Finance   75000           8"
      ]
     },
     "execution_count": 77,
     "metadata": {},
     "output_type": "execute_result"
    }
   ],
   "source": [
    "data = {\n",
    "    \"EmployeeID\": [1, 2, 3, 4, 5],\n",
    "    \"Department\": [\"IT\", \"Finance\", \"HR\", \"IT\", \"Finance\"],\n",
    "    \"Salary\": [70000, 80000, 55000, 65000, 75000],\n",
    "    \"Experience\": [6, 7, 3, 5, 8]\n",
    "}\n",
    "\n",
    "df = pd.DataFrame(data)\n",
    "df.to_csv(\"employees.csv\", index=False)\n",
    "df = pd.read_csv('employees.csv')\n",
    "\n",
    "new_df =  df.query('Department in [\"IT\", \"Finance\"] and Salary > 60000 and Experience >= 5')\n",
    "new_df\n",
    "     "
   ]
  },
  {
   "cell_type": "code",
   "execution_count": 78,
   "id": "952fa0de",
   "metadata": {},
   "outputs": [
    {
     "name": "stdout",
     "output_type": "stream",
     "text": [
      "   EmployeeID Department  Salary  Experience\n",
      "0           1         IT   70000           6\n",
      "1           2    Finance   80000           7\n",
      "3           4         IT   65000           5\n",
      "4           5    Finance   75000           8\n"
     ]
    }
   ],
   "source": [
    "df = pd.read_csv(\"employees.csv\")\n",
    "\n",
    "filtered = df[(df[\"Department\"].isin([\"IT\", \"Finance\"])) & (df[\"Salary\"] > 60000) & (df[\"Experience\"] >= 5)]\n",
    "print(filtered)"
   ]
  },
  {
   "cell_type": "code",
   "execution_count": 79,
   "id": "01b64b6c",
   "metadata": {},
   "outputs": [
    {
     "data": {
      "text/plain": [
       "Department\n",
       "Finance    77500.0\n",
       "HR             NaN\n",
       "IT         67500.0\n",
       "dtype: float64"
      ]
     },
     "execution_count": 79,
     "metadata": {},
     "output_type": "execute_result"
    }
   ],
   "source": [
    "df.groupby(\"Department\").apply(lambda x: x[x[\"Experience\"] >= 5][\"Salary\"].mean())"
   ]
  },
  {
   "cell_type": "code",
   "execution_count": 80,
   "id": "bd95c94f",
   "metadata": {},
   "outputs": [
    {
     "name": "stdout",
     "output_type": "stream",
     "text": [
      "[14 62  6 66 98  6  2  2 56 34 36 18 26 66 90]\n",
      "[36 18 26 66 90]\n",
      "[19 79  2 85 90]\n",
      "[[14  0  0 15 19]\n",
      " [ 6  0  0  0  0]\n",
      " [ 6  3  0 11  2]\n",
      " [ 2  0  0 34  0]\n",
      " [36 18 26  0  0]]\n"
     ]
    }
   ],
   "source": [
    "arr = np.random.randint(1, 101, (5, 5))\n",
    "\n",
    "print(arr[arr % 2 == 0])  # Extract even numbers\n",
    "print(arr[-1, :])  # Last row\n",
    "print(arr[:, -1])  # Last column\n",
    "\n",
    "arr[arr > 50] = 0\n",
    "print(arr)\n"
   ]
  },
  {
   "cell_type": "code",
   "execution_count": 81,
   "id": "1d636980",
   "metadata": {},
   "outputs": [
    {
     "name": "stdout",
     "output_type": "stream",
     "text": [
      "Department\n",
      "Finance    77500.0\n",
      "IT         67500.0\n",
      "Name: Salary, dtype: float64\n"
     ]
    }
   ],
   "source": [
    "\n",
    "data = {\n",
    "    \"Department\": [\"IT\", \"HR\", \"IT\", \"Finance\", \"HR\", \"Finance\", \"IT\"],\n",
    "    \"Salary\": [70000, 50000, 80000, 60000, 52000, 72000, 65000],\n",
    "    \"Experience\": [5, 4, 7, 3, 2, 8, 6]\n",
    "}\n",
    "\n",
    "\n",
    "filtered_df = df[df[\"Experience\"] >= 5]\n",
    "\n",
    "result = filtered_df.groupby(\"Department\")[\"Salary\"].mean()\n",
    "\n",
    "print(result)\n"
   ]
  },
  {
   "cell_type": "code",
   "execution_count": 82,
   "id": "2caeb8c8",
   "metadata": {},
   "outputs": [
    {
     "data": {
      "text/plain": [
       "array([14,  0,  0,  6,  0,  0,  0,  0,  6,  0,  2,  2,  0,  0, 34,  0, 36,\n",
       "       18, 26,  0,  0])"
      ]
     },
     "execution_count": 82,
     "metadata": {},
     "output_type": "execute_result"
    }
   ],
   "source": [
    "arr[arr % 2 == 0]\n"
   ]
  },
  {
   "cell_type": "code",
   "execution_count": 84,
   "id": "15e417a5",
   "metadata": {},
   "outputs": [
    {
     "data": {
      "text/plain": [
       "array([36, 18, 26,  0,  0])"
      ]
     },
     "execution_count": 84,
     "metadata": {},
     "output_type": "execute_result"
    }
   ],
   "source": [
    "arr[-1, :]  "
   ]
  },
  {
   "cell_type": "code",
   "execution_count": 85,
   "id": "c16446b7",
   "metadata": {},
   "outputs": [
    {
     "data": {
      "text/plain": [
       "array([19,  0,  2,  0,  0])"
      ]
     },
     "execution_count": 85,
     "metadata": {},
     "output_type": "execute_result"
    }
   ],
   "source": [
    "arr[:, -1]\n"
   ]
  },
  {
   "cell_type": "code",
   "execution_count": 86,
   "id": "c6e94170",
   "metadata": {},
   "outputs": [
    {
     "data": {
      "text/plain": [
       "array([19,  0,  2,  0,  0])"
      ]
     },
     "execution_count": 86,
     "metadata": {},
     "output_type": "execute_result"
    }
   ],
   "source": [
    "arr[-1, :]  \n",
    "arr[:, -1]"
   ]
  },
  {
   "cell_type": "code",
   "execution_count": 90,
   "id": "08dab749",
   "metadata": {},
   "outputs": [
    {
     "name": "stdout",
     "output_type": "stream",
     "text": [
      "Original Array:\n",
      "[[ 8 59 95 55 17]\n",
      " [67  8 22 86 56]\n",
      " [24 24 92 19 33]\n",
      " [84 55  9 61 59]\n",
      " [ 8 74 81  4 86]]\n",
      "\n",
      "Updated Array (Values > 50 replaced with 0):\n",
      "[[ 8  0  0  0 17]\n",
      " [ 0  8 22  0  0]\n",
      " [24 24  0 19 33]\n",
      " [ 0  0  9  0  0]\n",
      " [ 8  0  0  4  0]]\n"
     ]
    }
   ],
   "source": [
    "arr = np.random.randint(1, 101, (5, 5))\n",
    "\n",
    "print(\"Original Array:\")\n",
    "print(arr)\n",
    "\n",
    "arr[arr > 50] = 0\n",
    "\n",
    "print(\"\\nUpdated Array (Values > 50 replaced with 0):\")\n",
    "print(arr)\n"
   ]
  },
  {
   "cell_type": "code",
   "execution_count": 93,
   "id": "3d31a168",
   "metadata": {},
   "outputs": [
    {
     "name": "stdout",
     "output_type": "stream",
     "text": [
      "[[2 4]\n",
      " [6 8]]\n",
      "[[1 3]\n",
      " [5 7]]\n"
     ]
    },
    {
     "data": {
      "text/plain": [
       "array([[22, 34],\n",
       "       [46, 74]])"
      ]
     },
     "execution_count": 93,
     "metadata": {},
     "output_type": "execute_result"
    }
   ],
   "source": [
    "A = np.array([[2, 4], [6, 8]])\n",
    "B = np.array([[1, 3], [5, 7]])\n",
    "print(A)\n",
    "print(B)\n",
    "np.dot(A,B)\n"
   ]
  },
  {
   "cell_type": "code",
   "execution_count": 96,
   "id": "bad469bf",
   "metadata": {},
   "outputs": [
    {
     "data": {
      "text/plain": [
       "array([30, 40])"
      ]
     },
     "execution_count": 96,
     "metadata": {},
     "output_type": "execute_result"
    }
   ],
   "source": [
    "arr1 = np.array([10, 20, 30, 40, 50, 60])\n",
    "arr2 = np.array([30, 40, 70, 80, 90])\n",
    "np.intersect1d(arr1, arr2)"
   ]
  },
  {
   "cell_type": "code",
   "execution_count": 97,
   "id": "cd93a9a7",
   "metadata": {},
   "outputs": [
    {
     "data": {
      "text/plain": [
       "array([10, 20, 50, 60])"
      ]
     },
     "execution_count": 97,
     "metadata": {},
     "output_type": "execute_result"
    }
   ],
   "source": [
    "np.setdiff1d(arr1, arr2)"
   ]
  },
  {
   "cell_type": "code",
   "execution_count": 101,
   "id": "e512dedd",
   "metadata": {},
   "outputs": [
    {
     "data": {
      "text/html": [
       "<div>\n",
       "<style scoped>\n",
       "    .dataframe tbody tr th:only-of-type {\n",
       "        vertical-align: middle;\n",
       "    }\n",
       "\n",
       "    .dataframe tbody tr th {\n",
       "        vertical-align: top;\n",
       "    }\n",
       "\n",
       "    .dataframe thead th {\n",
       "        text-align: right;\n",
       "    }\n",
       "</style>\n",
       "<table border=\"1\" class=\"dataframe\">\n",
       "  <thead>\n",
       "    <tr style=\"text-align: right;\">\n",
       "      <th></th>\n",
       "      <th>Player</th>\n",
       "      <th>Score</th>\n",
       "      <th>Rank</th>\n",
       "    </tr>\n",
       "  </thead>\n",
       "  <tbody>\n",
       "    <tr>\n",
       "      <th>1</th>\n",
       "      <td>B</td>\n",
       "      <td>450</td>\n",
       "      <td>1</td>\n",
       "    </tr>\n",
       "    <tr>\n",
       "      <th>2</th>\n",
       "      <td>C</td>\n",
       "      <td>300</td>\n",
       "      <td>2</td>\n",
       "    </tr>\n",
       "    <tr>\n",
       "      <th>0</th>\n",
       "      <td>A</td>\n",
       "      <td>200</td>\n",
       "      <td>3</td>\n",
       "    </tr>\n",
       "    <tr>\n",
       "      <th>3</th>\n",
       "      <td>D</td>\n",
       "      <td>150</td>\n",
       "      <td>4</td>\n",
       "    </tr>\n",
       "  </tbody>\n",
       "</table>\n",
       "</div>"
      ],
      "text/plain": [
       "  Player  Score  Rank\n",
       "1      B    450     1\n",
       "2      C    300     2\n",
       "0      A    200     3\n",
       "3      D    150     4"
      ]
     },
     "execution_count": 101,
     "metadata": {},
     "output_type": "execute_result"
    }
   ],
   "source": [
    "df = pd.DataFrame({\n",
    "    \"Player\": [\"A\", \"B\", \"C\", \"D\"],\n",
    "    \"Score\": [200, 450, 300, 150]\n",
    "})\n",
    "df[\"Rank\"] = df[\"Score\"].rank(method=\"dense\", ascending=False).astype(int)\n",
    "df.sort_values(by=\"Score\", ascending=False)"
   ]
  },
  {
   "cell_type": "code",
   "execution_count": 106,
   "id": "5a70b2a4",
   "metadata": {},
   "outputs": [
    {
     "name": "stdout",
     "output_type": "stream",
     "text": [
      "big_data.csv created successfully!\n"
     ]
    }
   ],
   "source": [
    "data = {\n",
    "    \"CustomerID\": [\"C001\", \"C002\", \"C003\"],\n",
    "    \"PurchaseAmount\": [100, 200, 150]\n",
    "}\n",
    "\n",
    "df = pd.DataFrame(data)\n",
    "\n",
    "df.to_csv(\"big_data.csv\", index=False)\n",
    "\n",
    "print(\"big_data.csv created successfully!\")"
   ]
  },
  {
   "cell_type": "code",
   "execution_count": 109,
   "id": "aa617e44",
   "metadata": {},
   "outputs": [
    {
     "name": "stdout",
     "output_type": "stream",
     "text": [
      "  CustomerID  PurchaseAmount\n",
      "0       C001             100\n",
      "1       C002             200\n",
      "2       C003             150\n",
      "CustomerID        category\n",
      "PurchaseAmount       int64\n",
      "dtype: object\n",
      "       PurchaseAmount\n",
      "count             3.0\n",
      "mean            150.0\n",
      "std              50.0\n",
      "min             100.0\n",
      "25%             125.0\n",
      "50%             150.0\n",
      "75%             175.0\n",
      "max             200.0\n"
     ]
    }
   ],
   "source": [
    "df = pd.read_csv(\"big_data.csv\")\n",
    "\n",
    "print(df.head())\n",
    "\n",
    "df[\"CustomerID\"] = df[\"CustomerID\"].astype(\"category\")\n",
    "\n",
    "print(df.dtypes)\n",
    "\n",
    "print(df.describe())\n"
   ]
  }
 ],
 "metadata": {
  "kernelspec": {
   "display_name": "Python 3 (ipykernel)",
   "language": "python",
   "name": "python3"
  },
  "language_info": {
   "codemirror_mode": {
    "name": "ipython",
    "version": 3
   },
   "file_extension": ".py",
   "mimetype": "text/x-python",
   "name": "python",
   "nbconvert_exporter": "python",
   "pygments_lexer": "ipython3",
   "version": "3.11.5"
  }
 },
 "nbformat": 4,
 "nbformat_minor": 5
}
